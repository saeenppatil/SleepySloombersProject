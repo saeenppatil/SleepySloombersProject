{
  "nbformat": 4,
  "nbformat_minor": 0,
  "metadata": {
    "colab": {
      "provenance": [],
      "gpuType": "A100"
    },
    "kernelspec": {
      "name": "python3",
      "display_name": "Python 3"
    },
    "language_info": {
      "name": "python"
    },
    "accelerator": "GPU"
  },
  "cells": [
    {
      "cell_type": "code",
      "execution_count": 1,
      "metadata": {
        "colab": {
          "base_uri": "https://localhost:8080/"
        },
        "id": "miOSAd1ME9Ba",
        "outputId": "027d0752-926b-4f42-c05c-671daac7f6c4"
      },
      "outputs": [
        {
          "metadata": {
            "tags": null
          },
          "name": "stdout",
          "output_type": "stream",
          "text": [
            "Using device: cuda\n",
            "Drive already mounted at /content/drive; to attempt to forcibly remount, call drive.mount(\"/content/drive\", force_remount=True).\n"
          ]
        }
      ],
      "source": [
        "# === Setup ===\n",
        "!pip install transformers torchtext --quiet\n",
        "\n",
        "import os\n",
        "import numpy as np\n",
        "import torch\n",
        "import torch.nn as nn\n",
        "from torch.utils.data import TensorDataset, DataLoader\n",
        "import matplotlib.pyplot as plt\n",
        "from sklearn.metrics import accuracy_score, f1_score, precision_score, recall_score\n",
        "from transformers import BertTokenizer, BertModel\n",
        "from google.colab import drive\n",
        "\n",
        "# Use GPU if available\n",
        "device = torch.device('cuda' if torch.cuda.is_available() else 'cpu')\n",
        "print(\"Using device:\", device)\n",
        "\n",
        "# === Mount and Load Data ===\n",
        "drive.mount('/content/drive')\n",
        "# !unzip \"/content/drive/MyDrive/ECS 189G/stage_4_data.zip\" -d /content/\n",
        "\n",
        "DATA_DIR = \"/content/stage_4_data/text_classification\"\n",
        "RESULTS_DIR = \"/content/stage_4_result\"\n",
        "os.makedirs(RESULTS_DIR, exist_ok=True)\n",
        "\n",
        "def load_classification_data(split_dir):\n",
        "    data = []\n",
        "    for label_name, label_val in [('pos', 1), ('neg', 0)]:\n",
        "        label_dir = os.path.join(split_dir, label_name)\n",
        "        for fname in os.listdir(label_dir):\n",
        "            fpath = os.path.join(label_dir, fname)\n",
        "            if os.path.isfile(fpath) and fname.endswith('.txt'):\n",
        "                with open(fpath, 'r', encoding='utf-8') as f:\n",
        "                    text = f.read().strip()\n",
        "                data.append({'text': text, 'label': label_val})\n",
        "    return data\n",
        "\n",
        "# Load data splits\n",
        "train_data = load_classification_data(os.path.join(DATA_DIR, \"train\"))\n",
        "test_data  = load_classification_data(os.path.join(DATA_DIR, \"test\"))\n"
      ]
    },
    {
      "cell_type": "code",
      "source": [
        "# === BERT Tokenizer and Embedding Function ===\n",
        "tokenizer = BertTokenizer.from_pretrained('bert-base-uncased')\n",
        "bert = BertModel.from_pretrained('bert-base-uncased').to(device)\n",
        "bert.eval()\n",
        "\n",
        "def prepare_bert_embeddings(dataset_list, tokenizer, max_len=128, batch_size=32):\n",
        "    texts = [d['text'] for d in dataset_list]\n",
        "    labels = [d['label'] for d in dataset_list]\n",
        "\n",
        "    encodings = tokenizer(\n",
        "        texts,\n",
        "        padding='max_length',\n",
        "        truncation=True,\n",
        "        max_length=max_len,\n",
        "        return_tensors='pt'\n",
        "    )\n",
        "\n",
        "    input_ids = encodings['input_ids'].to(device)\n",
        "    attention_mask = encodings['attention_mask'].to(device)\n",
        "\n",
        "    embeddings = []\n",
        "    with torch.no_grad():\n",
        "        for i in range(0, input_ids.size(0), batch_size):\n",
        "            batch_ids = input_ids[i:i+batch_size]\n",
        "            batch_mask = attention_mask[i:i+batch_size]\n",
        "            outputs = bert(input_ids=batch_ids, attention_mask=batch_mask)\n",
        "            cls_batch = outputs.last_hidden_state[:, 0, :]  # CLS token\n",
        "            embeddings.append(cls_batch)\n",
        "\n",
        "    X = torch.cat(embeddings, dim=0)\n",
        "    y = torch.tensor(labels).to(device)\n",
        "    return TensorDataset(X, y)\n"
      ],
      "metadata": {
        "colab": {
          "base_uri": "https://localhost:8080/"
        },
        "collapsed": true,
        "id": "xVcPVmDoGJYc",
        "outputId": "7da5df95-b9ae-438d-b990-3526e7deaa15"
      },
      "execution_count": 2,
      "outputs": [
        {
          "output_type": "stream",
          "name": "stderr",
          "text": [
            "/usr/local/lib/python3.11/dist-packages/huggingface_hub/utils/_auth.py:104: UserWarning: \n",
            "Error while fetching `HF_TOKEN` secret value from your vault: 'Requesting secret HF_TOKEN timed out. Secrets can only be fetched when running from the Colab UI.'.\n",
            "You are not authenticated with the Hugging Face Hub in this notebook.\n",
            "If the error persists, please let us know by opening an issue on GitHub (https://github.com/huggingface/huggingface_hub/issues/new).\n",
            "  warnings.warn(\n"
          ]
        }
      ]
    },
    {
      "cell_type": "code",
      "source": [
        "# === Prepare DataLoaders ===\n",
        "print(\"working\")\n",
        "train_dataset = prepare_bert_embeddings(train_data, tokenizer)\n",
        "print(\"working\")\n",
        "test_dataset  = prepare_bert_embeddings(test_data, tokenizer)\n",
        "print(\"working\")\n",
        "\n",
        "train_loader = DataLoader(train_dataset, batch_size=32, shuffle=True)\n",
        "print(\"working\")\n",
        "test_loader  = DataLoader(test_dataset, batch_size=32)\n",
        "print(\"working\")\n"
      ],
      "metadata": {
        "id": "StpRyjfuGMRo",
        "colab": {
          "base_uri": "https://localhost:8080/"
        },
        "outputId": "09fca2c7-a40d-4384-866a-809e32b1cd9a"
      },
      "execution_count": 3,
      "outputs": [
        {
          "output_type": "stream",
          "name": "stdout",
          "text": [
            "working\n",
            "working\n",
            "working\n",
            "working\n",
            "working\n"
          ]
        }
      ]
    },
    {
      "cell_type": "code",
      "source": [
        "import torch\n",
        "import torch.nn as nn\n",
        "\n",
        "class BertLSTMClassifier(nn.Module):\n",
        "    def __init__(self, input_dim=768, hidden_dim=24, num_layers=1, num_classes=2, dropout=0.2):\n",
        "        super(BertLSTMClassifier, self).__init__()\n",
        "\n",
        "        # Smaller LSTM to reduce overfitting\n",
        "        self.lstm = nn.LSTM(\n",
        "            input_size=input_dim,\n",
        "            hidden_size=hidden_dim,\n",
        "            num_layers=num_layers,\n",
        "            batch_first=True,\n",
        "            dropout=0  # Keep as 0 for single layer\n",
        "        )\n",
        "\n",
        "        # Much simpler classifier - direct from LSTM to output\n",
        "        self.dropout = nn.Dropout(dropout)\n",
        "        self.fc = nn.Linear(hidden_dim, num_classes)\n",
        "\n",
        "    def forward(self, x):\n",
        "        x = x.unsqueeze(1)  # (batch_size, seq_len=1, input_dim)\n",
        "        _, (hn, _) = self.lstm(x)  # hn shape: (num_layers, batch, hidden_dim)\n",
        "        x = hn[-1]  # last layer hidden state\n",
        "        x = self.dropout(x)\n",
        "        return self.fc(x)\n",
        "\n",
        "# Simpler model with less capacity\n",
        "model = BertLSTMClassifier(\n",
        "    hidden_dim=24,      # Much smaller than your 48\n",
        "    dropout=0.2         # Less aggressive dropout\n",
        ").to(device)\n",
        "\n",
        "criterion = nn.CrossEntropyLoss()\n",
        "optimizer = torch.optim.AdamW(\n",
        "    model.parameters(),\n",
        "    lr=1e-4,            # Lower learning rate\n",
        "    weight_decay=5e-4   # Moderate weight decay\n",
        ")"
      ],
      "metadata": {
        "id": "Kvb1XrzSGOYX"
      },
      "execution_count": 47,
      "outputs": []
    },
    {
      "cell_type": "code",
      "source": [
        "train_losses = []\n",
        "train_accuracies = []\n",
        "\n",
        "def train(model, loader):\n",
        "    model.train()\n",
        "    total_loss = 0\n",
        "    correct = 0\n",
        "    total = 0\n",
        "\n",
        "    for X, y in loader:\n",
        "        X, y = X.to(device), y.to(device)\n",
        "        optimizer.zero_grad()\n",
        "        logits = model(X)\n",
        "        loss = criterion(logits, y)\n",
        "        loss.backward()\n",
        "        optimizer.step()\n",
        "\n",
        "        total_loss += loss.item()\n",
        "\n",
        "        preds = torch.argmax(logits, dim=1)\n",
        "        correct += (preds == y).sum().item()\n",
        "        total += y.size(0)\n",
        "\n",
        "    avg_loss = total_loss / len(loader)\n",
        "    accuracy = correct / total\n",
        "    return avg_loss, accuracy\n",
        "\n",
        "# === Run Training ===\n",
        "epochs = 100\n",
        "for epoch in range(1, epochs + 1):\n",
        "    loss, acc = train(model, train_loader)\n",
        "    train_losses.append(loss)\n",
        "    train_accuracies.append(acc)\n",
        "    print(f\"Epoch {epoch}: Loss = {loss:.4f}, Accuracy = {acc:.4f}\")\n"
      ],
      "metadata": {
        "colab": {
          "base_uri": "https://localhost:8080/"
        },
        "id": "BFLUcMbJGR26",
        "outputId": "bbeb9698-8dda-4cd2-a334-465b25067b0b"
      },
      "execution_count": 48,
      "outputs": [
        {
          "output_type": "stream",
          "name": "stdout",
          "text": [
            "Epoch 1: Loss = 0.5890, Accuracy = 0.7046\n",
            "Epoch 2: Loss = 0.4810, Accuracy = 0.7746\n",
            "Epoch 3: Loss = 0.4586, Accuracy = 0.7850\n",
            "Epoch 4: Loss = 0.4469, Accuracy = 0.7928\n",
            "Epoch 5: Loss = 0.4421, Accuracy = 0.7958\n",
            "Epoch 6: Loss = 0.4331, Accuracy = 0.8003\n",
            "Epoch 7: Loss = 0.4308, Accuracy = 0.8014\n",
            "Epoch 8: Loss = 0.4264, Accuracy = 0.8040\n",
            "Epoch 9: Loss = 0.4215, Accuracy = 0.8058\n",
            "Epoch 10: Loss = 0.4194, Accuracy = 0.8085\n",
            "Epoch 11: Loss = 0.4156, Accuracy = 0.8098\n",
            "Epoch 12: Loss = 0.4110, Accuracy = 0.8104\n",
            "Epoch 13: Loss = 0.4080, Accuracy = 0.8123\n",
            "Epoch 14: Loss = 0.4069, Accuracy = 0.8151\n",
            "Epoch 15: Loss = 0.4036, Accuracy = 0.8148\n",
            "Epoch 16: Loss = 0.4019, Accuracy = 0.8169\n",
            "Epoch 17: Loss = 0.3981, Accuracy = 0.8183\n",
            "Epoch 18: Loss = 0.3941, Accuracy = 0.8196\n",
            "Epoch 19: Loss = 0.3932, Accuracy = 0.8198\n",
            "Epoch 20: Loss = 0.3911, Accuracy = 0.8216\n",
            "Epoch 21: Loss = 0.3876, Accuracy = 0.8234\n",
            "Epoch 22: Loss = 0.3860, Accuracy = 0.8250\n",
            "Epoch 23: Loss = 0.3850, Accuracy = 0.8264\n",
            "Epoch 24: Loss = 0.3824, Accuracy = 0.8276\n",
            "Epoch 25: Loss = 0.3800, Accuracy = 0.8282\n",
            "Epoch 26: Loss = 0.3782, Accuracy = 0.8294\n",
            "Epoch 27: Loss = 0.3756, Accuracy = 0.8308\n",
            "Epoch 28: Loss = 0.3761, Accuracy = 0.8303\n",
            "Epoch 29: Loss = 0.3724, Accuracy = 0.8319\n",
            "Epoch 30: Loss = 0.3701, Accuracy = 0.8333\n",
            "Epoch 31: Loss = 0.3682, Accuracy = 0.8351\n",
            "Epoch 32: Loss = 0.3679, Accuracy = 0.8346\n",
            "Epoch 33: Loss = 0.3642, Accuracy = 0.8376\n",
            "Epoch 34: Loss = 0.3637, Accuracy = 0.8370\n",
            "Epoch 35: Loss = 0.3605, Accuracy = 0.8399\n",
            "Epoch 36: Loss = 0.3591, Accuracy = 0.8433\n",
            "Epoch 37: Loss = 0.3589, Accuracy = 0.8405\n",
            "Epoch 38: Loss = 0.3546, Accuracy = 0.8442\n",
            "Epoch 39: Loss = 0.3554, Accuracy = 0.8432\n",
            "Epoch 40: Loss = 0.3523, Accuracy = 0.8450\n",
            "Epoch 41: Loss = 0.3514, Accuracy = 0.8458\n",
            "Epoch 42: Loss = 0.3499, Accuracy = 0.8438\n",
            "Epoch 43: Loss = 0.3486, Accuracy = 0.8476\n",
            "Epoch 44: Loss = 0.3465, Accuracy = 0.8480\n",
            "Epoch 45: Loss = 0.3441, Accuracy = 0.8490\n",
            "Epoch 46: Loss = 0.3433, Accuracy = 0.8494\n",
            "Epoch 47: Loss = 0.3418, Accuracy = 0.8494\n",
            "Epoch 48: Loss = 0.3393, Accuracy = 0.8511\n",
            "Epoch 49: Loss = 0.3380, Accuracy = 0.8525\n",
            "Epoch 50: Loss = 0.3352, Accuracy = 0.8529\n",
            "Epoch 51: Loss = 0.3349, Accuracy = 0.8542\n",
            "Epoch 52: Loss = 0.3328, Accuracy = 0.8524\n",
            "Epoch 53: Loss = 0.3310, Accuracy = 0.8546\n",
            "Epoch 54: Loss = 0.3286, Accuracy = 0.8571\n",
            "Epoch 55: Loss = 0.3264, Accuracy = 0.8584\n",
            "Epoch 56: Loss = 0.3261, Accuracy = 0.8569\n",
            "Epoch 57: Loss = 0.3245, Accuracy = 0.8576\n",
            "Epoch 58: Loss = 0.3225, Accuracy = 0.8612\n",
            "Epoch 59: Loss = 0.3216, Accuracy = 0.8621\n",
            "Epoch 60: Loss = 0.3205, Accuracy = 0.8605\n",
            "Epoch 61: Loss = 0.3192, Accuracy = 0.8638\n",
            "Epoch 62: Loss = 0.3177, Accuracy = 0.8624\n",
            "Epoch 63: Loss = 0.3151, Accuracy = 0.8646\n",
            "Epoch 64: Loss = 0.3148, Accuracy = 0.8648\n",
            "Epoch 65: Loss = 0.3128, Accuracy = 0.8665\n",
            "Epoch 66: Loss = 0.3105, Accuracy = 0.8655\n",
            "Epoch 67: Loss = 0.3075, Accuracy = 0.8681\n",
            "Epoch 68: Loss = 0.3081, Accuracy = 0.8699\n",
            "Epoch 69: Loss = 0.3053, Accuracy = 0.8685\n",
            "Epoch 70: Loss = 0.3024, Accuracy = 0.8699\n",
            "Epoch 71: Loss = 0.3028, Accuracy = 0.8723\n",
            "Epoch 72: Loss = 0.3000, Accuracy = 0.8727\n",
            "Epoch 73: Loss = 0.2997, Accuracy = 0.8717\n",
            "Epoch 74: Loss = 0.2975, Accuracy = 0.8731\n",
            "Epoch 75: Loss = 0.2946, Accuracy = 0.8752\n",
            "Epoch 76: Loss = 0.2933, Accuracy = 0.8748\n",
            "Epoch 77: Loss = 0.2932, Accuracy = 0.8771\n",
            "Epoch 78: Loss = 0.2922, Accuracy = 0.8745\n",
            "Epoch 79: Loss = 0.2893, Accuracy = 0.8767\n",
            "Epoch 80: Loss = 0.2874, Accuracy = 0.8789\n",
            "Epoch 81: Loss = 0.2858, Accuracy = 0.8794\n",
            "Epoch 82: Loss = 0.2844, Accuracy = 0.8809\n",
            "Epoch 83: Loss = 0.2840, Accuracy = 0.8792\n",
            "Epoch 84: Loss = 0.2839, Accuracy = 0.8796\n",
            "Epoch 85: Loss = 0.2811, Accuracy = 0.8806\n",
            "Epoch 86: Loss = 0.2784, Accuracy = 0.8803\n",
            "Epoch 87: Loss = 0.2771, Accuracy = 0.8830\n",
            "Epoch 88: Loss = 0.2767, Accuracy = 0.8829\n",
            "Epoch 89: Loss = 0.2754, Accuracy = 0.8854\n",
            "Epoch 90: Loss = 0.2720, Accuracy = 0.8858\n",
            "Epoch 91: Loss = 0.2701, Accuracy = 0.8864\n",
            "Epoch 92: Loss = 0.2706, Accuracy = 0.8863\n",
            "Epoch 93: Loss = 0.2681, Accuracy = 0.8886\n",
            "Epoch 94: Loss = 0.2666, Accuracy = 0.8912\n",
            "Epoch 95: Loss = 0.2652, Accuracy = 0.8870\n",
            "Epoch 96: Loss = 0.2645, Accuracy = 0.8886\n",
            "Epoch 97: Loss = 0.2612, Accuracy = 0.8896\n",
            "Epoch 98: Loss = 0.2590, Accuracy = 0.8935\n",
            "Epoch 99: Loss = 0.2595, Accuracy = 0.8931\n",
            "Epoch 100: Loss = 0.2591, Accuracy = 0.8920\n"
          ]
        }
      ]
    },
    {
      "cell_type": "code",
      "source": [
        "from sklearn.metrics import classification_report, confusion_matrix\n",
        "\n",
        "def test_model(model, test_loader):\n",
        "    model.eval()\n",
        "    preds, targets = [], []\n",
        "    with torch.no_grad():\n",
        "        for X, y in test_loader:\n",
        "            X, y = X.to(device), y.to(device)\n",
        "            logits = model(X)\n",
        "            pred = torch.argmax(logits, dim=1)\n",
        "            preds.extend(pred.cpu().numpy())\n",
        "            targets.extend(y.cpu().numpy())\n",
        "\n",
        "    acc = accuracy_score(targets, preds)\n",
        "    f1 = f1_score(targets, preds)\n",
        "    precision = precision_score(targets, preds)\n",
        "    recall = recall_score(targets, preds)\n",
        "\n",
        "    print(\"\\n=== Test Set Evaluation ===\")\n",
        "    print(f\"Accuracy  : {acc:.4f}\")\n",
        "    print(f\"F1 Score  : {f1:.4f}\")\n",
        "    print(f\"Precision : {precision:.4f}\")\n",
        "    print(f\"Recall    : {recall:.4f}\")\n",
        "    print(\"\\nClassification Report:\")\n",
        "    print(classification_report(targets, preds, target_names=[\"Negative\", \"Positive\"]))\n",
        "\n",
        "# ✅ Run Test Evaluation\n",
        "test_model(model, test_loader)\n"
      ],
      "metadata": {
        "id": "f9hOnrzefbDB",
        "colab": {
          "base_uri": "https://localhost:8080/"
        },
        "outputId": "eedc8af2-3067-4e5e-865b-7d4800d0de69"
      },
      "execution_count": 49,
      "outputs": [
        {
          "output_type": "stream",
          "name": "stdout",
          "text": [
            "\n",
            "=== Test Set Evaluation ===\n",
            "Accuracy  : 0.8101\n",
            "F1 Score  : 0.8128\n",
            "Precision : 0.8014\n",
            "Recall    : 0.8244\n",
            "\n",
            "Classification Report:\n",
            "              precision    recall  f1-score   support\n",
            "\n",
            "    Negative       0.82      0.80      0.81     12500\n",
            "    Positive       0.80      0.82      0.81     12500\n",
            "\n",
            "    accuracy                           0.81     25000\n",
            "   macro avg       0.81      0.81      0.81     25000\n",
            "weighted avg       0.81      0.81      0.81     25000\n",
            "\n"
          ]
        }
      ]
    },
    {
      "cell_type": "code",
      "source": [
        "plt.figure(figsize=(12, 5))\n",
        "\n",
        "plt.subplot(1, 2, 1)\n",
        "plt.plot(train_losses, marker='o', label='Train Loss')\n",
        "plt.title(\"Training Loss\")\n",
        "plt.xlabel(\"Epoch\")\n",
        "plt.ylabel(\"Loss\")\n",
        "plt.grid(True)\n",
        "\n",
        "plt.subplot(1, 2, 2)\n",
        "plt.plot(train_accuracies, marker='o', color='green', label='Train Accuracy')\n",
        "plt.title(\"Training Accuracy\")\n",
        "plt.xlabel(\"Epoch\")\n",
        "plt.ylabel(\"Accuracy\")\n",
        "plt.grid(True)\n",
        "\n",
        "plt.tight_layout()\n",
        "plt.show()\n"
      ],
      "metadata": {
        "colab": {
          "base_uri": "https://localhost:8080/",
          "height": 342
        },
        "id": "SBz5CfcUPuIO",
        "outputId": "831f0eab-c9dc-48bf-e710-20d66246cef6"
      },
      "execution_count": 50,
      "outputs": [
        {
          "output_type": "display_data",
          "data": {
            "text/plain": [
              "<Figure size 1200x500 with 2 Axes>"
            ],
            "image/png": "[encoded data removed]"
          },
          "metadata": {}
        }
      ]
    }
  ]
}